{
 "cells": [
  {
   "cell_type": "markdown",
   "id": "b61c33c4",
   "metadata": {},
   "source": [
    "# Image Retreival using pre-trained Models \n",
    "\n",
    "## Dataset: cifar 10\n",
    "## Model: ResNet v2, cifar10-vit\n",
    "\n",
    "## Experiments\n",
    "- 기존 cifar10 dataset으로 학습한 image classification model load \n",
    "- feature 추출 모델 구성\n",
    "- feature extraction\n",
    "- Similarity 구하기\n",
    "- retrieval test \n"
   ]
  },
  {
   "cell_type": "code",
   "execution_count": null,
   "id": "10aac8d9",
   "metadata": {},
   "outputs": [],
   "source": [
    "import tensorflow as tf\n",
    "from tensorflow import keras\n",
    "\n",
    "from keras.models import Model\n",
    "from keras.datasets import cifar10\n",
    "\n",
    "import numpy as np\n",
    "import os\n",
    "import math\n",
    "from datetime import datetime "
   ]
  },
  {
   "cell_type": "code",
   "execution_count": null,
   "id": "e7d91f29",
   "metadata": {},
   "outputs": [],
   "source": [
    "# for display image and plot\n",
    "from PIL import Image\n",
    "import matplotlib.pyplot as plt"
   ]
  },
  {
   "cell_type": "markdown",
   "id": "c0b45501",
   "metadata": {},
   "source": [
    "## Dataset Preparation\n",
    "- Load cifar10 dataset\n",
    "- Normalize input(x) data\n",
    "- Output encoding to one-hot vector"
   ]
  },
  {
   "cell_type": "code",
   "execution_count": null,
   "id": "3ee0ae4a",
   "metadata": {
    "scrolled": true
   },
   "outputs": [],
   "source": [
    "# Load the CIFAR10 data.\n",
    "(x_train_data, y_train_data), (x_test_data, y_test_data) = cifar10.load_data()\n",
    "\n",
    "# Input image dimensions.\n",
    "input_shape = x_train_data.shape[1:]\n",
    "\n",
    "# Normalize data.\n",
    "x_train = x_train_data.astype('float32') / 255\n",
    "x_test = x_test_data.astype('float32') / 255"
   ]
  },
  {
   "cell_type": "code",
   "execution_count": null,
   "id": "4cc8fe43",
   "metadata": {},
   "outputs": [],
   "source": [
    "num_classes = 10 # cifar10 classes : fixed\n",
    "\n",
    "# Convert class vectors to binary class matrices.\n",
    "y_train = keras.utils.to_categorical(y_train_data, num_classes)\n",
    "y_test = keras.utils.to_categorical(y_test_data, num_classes)\n",
    "\n",
    "print('x_train shape:', x_train.shape)\n",
    "print(x_train.shape[0], 'train samples')\n",
    "print(x_test.shape[0], 'test samples')\n",
    "print('y_train shape:', y_train.shape)"
   ]
  },
  {
   "cell_type": "code",
   "execution_count": null,
   "id": "c920c4eb",
   "metadata": {},
   "outputs": [],
   "source": [
    "!ls cifar10_*"
   ]
  },
  {
   "cell_type": "markdown",
   "id": "14654b3b",
   "metadata": {},
   "source": [
    "## Hyperparameters"
   ]
  },
  {
   "cell_type": "code",
   "execution_count": null,
   "id": "52a3d609",
   "metadata": {},
   "outputs": [],
   "source": [
    "def get_config(model_type, train_dataset):\n",
    "    \n",
    "    if (model_type == 'resnet'): \n",
    "        # 1. ResNetv2 model \n",
    "        depth = 20\n",
    "        version=2\n",
    "        # Model name, depth and version\n",
    "        model_type = 'ResNet%dv%d' % (depth, version)\n",
    "        model_file = 'cifar10_%s' % model_type\n",
    "        output_feature_layer_name = 'feature' # 'flatten'\n",
    "\n",
    "        # Subtracting pixel mean improves accuracy\n",
    "        subtract_pixel_mean = True\n",
    "    elif (model_type == 'vit'):\n",
    "        # 2. vit model\n",
    "        model_type='vit_b16'\n",
    "        model_file = 'cifar10_%s' % model_type\n",
    "        subtract_pixel_mean = False\n",
    "        output_feature_layer_name = 'feature' # 'dense' or ('dense_#' like 'dense_3') \n",
    "                                              # check the layer name of the model\n",
    "    else:\n",
    "        # 2. vit model\n",
    "        model_type='vit_b16'\n",
    "        model_file = 'cifar10_%s' % model_type\n",
    "        subtract_pixel_mean = False\n",
    "        output_feature_layer_name = 'feature' # 'dense'\n",
    "\n",
    "    config = {'model_type': model_type,\n",
    "              'model_file': model_file,\n",
    "              'output_feature_layer_name': output_feature_layer_name,\n",
    "              'subtract_pixel_mean': subtract_pixel_mean\n",
    "             }\n",
    "              \n",
    "    if config['subtract_pixel_mean']:\n",
    "        config['x_train_mean'] = np.mean(train_dataset, axis=0)\n",
    "    \n",
    "    return config"
   ]
  },
  {
   "cell_type": "code",
   "execution_count": null,
   "id": "fab761b6",
   "metadata": {},
   "outputs": [],
   "source": [
    "config_resnet = get_config('resnet', x_train)\n",
    "config_vit = get_config('vit', x_train)\n",
    "input_shape = (32, 32, 3) #cifar10 image size\n",
    "image_size = 224 # 224 # 256 #size after resizing image"
   ]
  },
  {
   "cell_type": "code",
   "execution_count": null,
   "id": "28dcf318",
   "metadata": {},
   "outputs": [],
   "source": [
    "def get_model(config):\n",
    "    base_model = keras.models.load_model(config['model_file'])\n",
    "    feature_extraction_model = Model(inputs=base_model.input, \n",
    "                                     outputs=base_model.get_layer(\n",
    "                                         config['output_feature_layer_name']).output\n",
    "                                    )\n",
    "    return feature_extraction_model, base_model"
   ]
  },
  {
   "cell_type": "code",
   "execution_count": null,
   "id": "1e1866ea",
   "metadata": {},
   "outputs": [],
   "source": [
    "# resnet과 vit 모델을 load하고, feature model을 만든다.\n",
    "resnet_feature_model, resnet_base_model = get_model(config_resnet)"
   ]
  },
  {
   "cell_type": "code",
   "execution_count": null,
   "id": "e58d9a88",
   "metadata": {},
   "outputs": [],
   "source": [
    "vit_feature_model, vit_base_model = get_model(config_vit)"
   ]
  },
  {
   "cell_type": "code",
   "execution_count": null,
   "id": "7e70082d",
   "metadata": {},
   "outputs": [],
   "source": [
    "# 로드한 base model architecture를 확인한다.\n",
    "resnet_base_model.summary()\n",
    "model_arch_png = 'model_cifar10_%s_loaded.png' % config_resnet['model_type']\n",
    "keras.utils.plot_model(resnet_base_model, to_file=model_arch_png, show_shapes=True )"
   ]
  },
  {
   "cell_type": "code",
   "execution_count": null,
   "id": "b3885341",
   "metadata": {},
   "outputs": [],
   "source": [
    "# 로드한 feature model architecture를 확인한다.\n",
    "resnet_feature_model.summary()\n",
    "model_arch_png = 'model_cifar10_%s_feature.png' % config_resnet['model_type']\n",
    "keras.utils.plot_model(resnet_feature_model, to_file=model_arch_png, show_shapes=True )"
   ]
  },
  {
   "cell_type": "code",
   "execution_count": null,
   "id": "4908fc05",
   "metadata": {},
   "outputs": [],
   "source": [
    "# 로드한 base model architecture를 확인한다.\n",
    "vit_base_model.summary()\n",
    "model_arch_png = 'model_cifar10_%s_loaded.png' % config_vit['model_type']\n",
    "keras.utils.plot_model(vit_base_model, to_file=model_arch_png, show_shapes=True )"
   ]
  },
  {
   "cell_type": "code",
   "execution_count": null,
   "id": "12b83d60",
   "metadata": {},
   "outputs": [],
   "source": [
    "# 로드한 feature model architecture를 확인한다.\n",
    "vit_feature_model.summary()\n",
    "model_arch_png = 'model_cifar10_%s_feature.png' % config_vit['model_type']\n",
    "keras.utils.plot_model(vit_feature_model, to_file=model_arch_png, show_shapes=True )"
   ]
  },
  {
   "cell_type": "markdown",
   "id": "22168fab",
   "metadata": {},
   "source": [
    "## cifar10 test dataset에대한 features 분석"
   ]
  },
  {
   "cell_type": "code",
   "execution_count": null,
   "id": "30fbb314",
   "metadata": {},
   "outputs": [],
   "source": [
    "# feature extraction \n",
    "# input: normalized input dataset(x_dataset [0,1])\n",
    "# return :predictions (feature vectors), \n",
    "#         out_x_dataset(preprocessed dataset), out_y_labels\n",
    "def extract_features(config, model, x_dataset, y_label, start, num):\n",
    "    if start < 0: \n",
    "        start = 0\n",
    "    end = -1    \n",
    "    if start + num > len(x_dataset)-1:\n",
    "        end = len(x_dataset) - start-1 # -1\n",
    "    else:\n",
    "        end = start + num\n",
    "    # Retrieve a number of images from the dataset.\n",
    "    data_batch = x_dataset[start:end]\n",
    "\n",
    "    # If subtract pixel mean is enabled (ResNet case)\n",
    "    if config['subtract_pixel_mean']:\n",
    "        data_batch = np.copy(x_dataset[start:end])\n",
    "        data_batch -= config['x_train_mean']\n",
    "        \n",
    "    # Get predictions from model.  \n",
    "    predictions = model.predict(data_batch) # features\n",
    "\n",
    "    out_x_dataset = data_batch\n",
    "    out_y_labels = y_label[start:end]\n",
    "    \n",
    "    return predictions, out_x_dataset, out_y_labels"
   ]
  },
  {
   "cell_type": "code",
   "execution_count": null,
   "id": "c69b44fc",
   "metadata": {},
   "outputs": [],
   "source": [
    "resnet_test_features, resnet_x_data, resnet_y_labels = \\\n",
    "    extract_features (config_resnet, resnet_feature_model, x_test, y_test, 0, 1000)"
   ]
  },
  {
   "cell_type": "code",
   "execution_count": null,
   "id": "97111e02",
   "metadata": {},
   "outputs": [],
   "source": [
    "vit_test_features, vit_x_data, vit_y_labels = \\\n",
    "    extract_features (config_vit, vit_feature_model, x_test, y_test, 0, 1000)"
   ]
  },
  {
   "cell_type": "code",
   "execution_count": null,
   "id": "95dc0d60",
   "metadata": {},
   "outputs": [],
   "source": [
    "resnet_test_features.shape, vit_test_features.shape"
   ]
  },
  {
   "cell_type": "code",
   "execution_count": null,
   "id": "fd21402c",
   "metadata": {},
   "outputs": [],
   "source": [
    "from sklearn.metrics.pairwise import cosine_similarity"
   ]
  },
  {
   "cell_type": "code",
   "execution_count": null,
   "id": "58ed33a3",
   "metadata": {},
   "outputs": [],
   "source": [
    "resnet_sim = cosine_similarity(resnet_test_features)"
   ]
  },
  {
   "cell_type": "code",
   "execution_count": null,
   "id": "e32d65dc",
   "metadata": {},
   "outputs": [],
   "source": [
    "vit_sim = cosine_similarity(vit_test_features)"
   ]
  },
  {
   "cell_type": "code",
   "execution_count": null,
   "id": "86430ec5",
   "metadata": {},
   "outputs": [],
   "source": [
    "resnet_sim.shape, resnet_sim[0]"
   ]
  },
  {
   "cell_type": "code",
   "execution_count": null,
   "id": "29eaf2b4",
   "metadata": {},
   "outputs": [],
   "source": [
    "# check similarity values\n",
    "idx1=0\n",
    "idx2=17\n",
    "resnet_sim[idx1][idx2], \\\n",
    "np.dot(resnet_test_features[idx1], resnet_test_features[idx2])/ \\\n",
    "      (np.linalg.norm(resnet_test_features[idx1])\\\n",
    "       *np.linalg.norm(resnet_test_features[idx2]))"
   ]
  },
  {
   "cell_type": "code",
   "execution_count": null,
   "id": "64f047b9",
   "metadata": {},
   "outputs": [],
   "source": [
    "# sort : ascending(default) or descending\n",
    "resnet_score_ind = np.argsort(resnet_sim)# [::,-1] "
   ]
  },
  {
   "cell_type": "code",
   "execution_count": null,
   "id": "d6c9f4c7",
   "metadata": {},
   "outputs": [],
   "source": [
    "vit_score_ind = np.argsort(vit_sim)# [::,-1] "
   ]
  },
  {
   "cell_type": "code",
   "execution_count": null,
   "id": "69fc390a",
   "metadata": {},
   "outputs": [],
   "source": [
    "# given similarity with the corresponding dataset & labels, \n",
    "# when querying an image of a query index, show the most similar top-k images \n",
    "# - the most similar top-k images\n",
    "# cls_model is used to provide prediction results of the base model\n",
    "def show_similar_images(config, similarity, query_index, top_k, \n",
    "                        x_dataset, y_label, \n",
    "                        cls_model, do_preprocess=False):\n",
    "\n",
    "    class_names = ['airplane',\n",
    "                   'automobile',\n",
    "                   'bird',\n",
    "                   'cat',\n",
    "                   'deer',\n",
    "                   'dog',\n",
    "                   'frog',\n",
    "                   'horse',\n",
    "                   'ship',\n",
    "                   'truck' ]\n",
    "    # num_rows = 3\n",
    "    num_cols = 7\n",
    "    num_rows = (top_k // num_cols) + 2   \n",
    "    #print(f'rows={num_rows}')\n",
    "    if top_k > num_rows * num_cols:\n",
    "        top_k = num_rows * num_cols\n",
    "        \n",
    "    # Retrieve a number of images from the dataset.\n",
    "    data_batch = x_dataset\n",
    "\n",
    "    # Get predictions from model.  \n",
    "    if (do_preprocess):\n",
    "        if config['subtract_pixel_mean']:\n",
    "            # data_batch = np.copy(x_dataset)\n",
    "            data_batch -= config['x_train_mean']\n",
    "    \n",
    "    predictions = cls_model.predict(data_batch)\n",
    "\n",
    "    plt.figure(figsize=(20, 2*num_rows))\n",
    "    num_matches = 0\n",
    "        \n",
    "    if config['subtract_pixel_mean']:\n",
    "        # add to range [0,1] for display , x_train_mean = np.mean(x_train, axis=0)\n",
    "        data_batch = data_batch + config['x_train_mean'] \n",
    "    else:\n",
    "        data_batch = data_batch\n",
    "\n",
    "    score_idx = np.argsort(similarity[query_index])[::-1] # to change descending order\n",
    "    score_idx = score_idx[:top_k] # select top-k\n",
    "    \n",
    "    # display query image in the top row\n",
    "    ax = plt.subplot(num_rows, num_cols, 1)\n",
    "    plt.axis(\"off\")\n",
    "    plt.imshow(data_batch[query_index])\n",
    "    truth_idx = np.nonzero(y_label[query_index])\n",
    "    title = f\"{query_index}: {class_names[truth_idx[0][0]]}, {similarity[query_index][query_index]:.2f}\"\n",
    "    title_obj = plt.title(title, fontdict={'fontsize':13})\n",
    "    plt.setp(title_obj, color='g')\n",
    "        \n",
    "    # display similar images\n",
    "    # displayed text format: image number, ground truth class name: prected class name, similarity\n",
    "    for i, idx in enumerate(score_idx):\n",
    "        ax = plt.subplot(num_rows, num_cols, i + num_cols+1)\n",
    "        plt.axis(\"off\")\n",
    "        plt.imshow(data_batch[idx])\n",
    "        \n",
    "        pred_idx = tf.argmax(predictions[idx]).numpy()\n",
    "        truth_idx = np.nonzero(y_label[idx])\n",
    "            \n",
    "        title = f\"{idx}: {class_names[truth_idx[0][0]]}:{class_names[pred_idx]}, {similarity[query_index][idx]:.2f}\"\n",
    "        title_obj = plt.title(title, fontdict={'fontsize':13})\n",
    "            \n",
    "        if pred_idx == truth_idx:\n",
    "            num_matches += 1\n",
    "            plt.setp(title_obj, color='g')\n",
    "        else:\n",
    "            plt.setp(title_obj, color='r')\n",
    "                \n",
    "        acc = num_matches/len(score_idx)\n",
    "    print(\"Prediction accuracy: \", int(100*acc)/100)\n",
    "    \n",
    "    return\n"
   ]
  },
  {
   "cell_type": "code",
   "execution_count": null,
   "id": "1f516947",
   "metadata": {
    "scrolled": false
   },
   "outputs": [],
   "source": [
    "query_index = 10 # 10\n",
    "top_k = 64"
   ]
  },
  {
   "cell_type": "code",
   "execution_count": null,
   "id": "6a874d37",
   "metadata": {},
   "outputs": [],
   "source": [
    "show_similar_images(config_resnet, resnet_sim, query_index, top_k, \n",
    "                    resnet_x_data, resnet_y_labels, resnet_base_model)"
   ]
  },
  {
   "cell_type": "code",
   "execution_count": null,
   "id": "c2e0014d",
   "metadata": {},
   "outputs": [],
   "source": [
    "show_similar_images(config_vit, vit_sim, query_index, top_k, \n",
    "                    vit_x_data, vit_y_labels, vit_base_model)"
   ]
  },
  {
   "cell_type": "code",
   "execution_count": null,
   "id": "5ccfa63c",
   "metadata": {},
   "outputs": [],
   "source": [
    "!nvidia-smi"
   ]
  },
  {
   "cell_type": "code",
   "execution_count": null,
   "id": "72a9cfeb",
   "metadata": {},
   "outputs": [],
   "source": []
  }
 ],
 "metadata": {
  "kernelspec": {
   "display_name": "Python 3 (ipykernel)",
   "language": "python",
   "name": "python3"
  },
  "language_info": {
   "codemirror_mode": {
    "name": "ipython",
    "version": 3
   },
   "file_extension": ".py",
   "mimetype": "text/x-python",
   "name": "python",
   "nbconvert_exporter": "python",
   "pygments_lexer": "ipython3",
   "version": "3.8.9"
  }
 },
 "nbformat": 4,
 "nbformat_minor": 5
}

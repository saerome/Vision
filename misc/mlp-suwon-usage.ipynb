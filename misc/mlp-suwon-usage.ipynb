{
 "cells": [
  {
   "cell_type": "markdown",
   "id": "d2cf9fc6",
   "metadata": {},
   "source": [
    "# Development tips for ML Platform-suwon region"
   ]
  },
  {
   "cell_type": "markdown",
   "id": "a8d6fde6",
   "metadata": {},
   "source": [
    "## Python package installation"
   ]
  },
  {
   "cell_type": "code",
   "execution_count": null,
   "id": "318ccdcc",
   "metadata": {},
   "outputs": [],
   "source": [
    "# install package in user (base)\n",
    "# user installed packages: ~/.local/\n",
    "pip install --user matplotlib\n",
    "# or\n",
    "# install package in venv \n",
    "pip install matplotlib\n"
   ]
  },
  {
   "cell_type": "code",
   "execution_count": null,
   "id": "a51b7e45",
   "metadata": {},
   "outputs": [],
   "source": [
    "# To see information for the installed package\n",
    "!pip show matplotlib\n"
   ]
  },
  {
   "cell_type": "markdown",
   "id": "29d56a33",
   "metadata": {},
   "source": [
    "## proxy, ssl"
   ]
  },
  {
   "cell_type": "code",
   "execution_count": null,
   "id": "e632bf71",
   "metadata": {},
   "outputs": [],
   "source": [
    "# in order to download models from huggingface, it is necessary to set the following proxy and ssl \n",
    "import ssl\n",
    "ssl._create_default_https_context = ssl._create_unverified_context\n",
    "# suwon\n",
    "import os\n",
    "os.environ['REQUESTS_CA_BUNDLE'] = '/etc/ssl/certs/ca-certificates.crt'\n",
    "os.environ['HTTP_PROXY'] ='http://75.17.107.42:8080'\n",
    "os.environ['HTTPS_PROXY'] ='http://75.17.107.42:8080'"
   ]
  },
  {
   "cell_type": "code",
   "execution_count": null,
   "id": "68a2546b",
   "metadata": {},
   "outputs": [],
   "source": [
    "# The UniverSE (인개원) PC\n",
    "import os\n",
    "os.environ['REQUESTS_CA_BUNDLE'] = 'D:\\SamsungUniversity_b64.crt'\n",
    "os.environ['HTTP_PROXY'] ='http://10.241.3.7:8080'\n",
    "os.environ['HTTPS_PROXY'] ='http://10.241.3.7:8080'"
   ]
  },
  {
   "cell_type": "markdown",
   "id": "7b4c9db8",
   "metadata": {},
   "source": [
    "## Venv"
   ]
  },
  {
   "cell_type": "code",
   "execution_count": null,
   "id": "0901ef96",
   "metadata": {},
   "outputs": [],
   "source": [
    "python3 -m venv (path/venv-name)\n",
    "source /path/venv_name/activate"
   ]
  },
  {
   "cell_type": "code",
   "execution_count": null,
   "id": "7f4447c7",
   "metadata": {},
   "outputs": [],
   "source": [
    "deactivate"
   ]
  },
  {
   "cell_type": "code",
   "execution_count": null,
   "id": "b37775e5",
   "metadata": {},
   "outputs": [],
   "source": [
    "# install packages in venv\n",
    "source /path/venv_name/activate"
   ]
  },
  {
   "cell_type": "code",
   "execution_count": null,
   "id": "52db1909",
   "metadata": {},
   "outputs": [],
   "source": [
    "# install package in venv\n",
    "pip install matplotlib\n",
    "# **NOTE**: do not use --user option in venv\n",
    "# install package in user (base)\n",
    "# pip install --user matplotlib"
   ]
  },
  {
   "cell_type": "code",
   "execution_count": null,
   "id": "6b5ae1f2",
   "metadata": {},
   "outputs": [],
   "source": [
    "# check current python path(ex, venv)\n",
    "import os\n",
    "import sys\n",
    "sys.path"
   ]
  },
  {
   "cell_type": "code",
   "execution_count": null,
   "id": "1b1baec1",
   "metadata": {},
   "outputs": [],
   "source": [
    "# store python packages and their versions in the current venv \n",
    "...\n",
    "# install package in venv\n",
    "pip install matplotlib\n"
   ]
  },
  {
   "cell_type": "code",
   "execution_count": null,
   "id": "7e663e86",
   "metadata": {},
   "outputs": [],
   "source": [
    "!pip freeze > requirements"
   ]
  },
  {
   "cell_type": "markdown",
   "id": "9ec27f7b",
   "metadata": {},
   "source": [
    "## ssh"
   ]
  },
  {
   "cell_type": "code",
   "execution_count": null,
   "id": "c165609d",
   "metadata": {},
   "outputs": [],
   "source": [
    "# mlp-suwon login \n",
    "# jumping host\n",
    "# job, container"
   ]
  },
  {
   "cell_type": "markdown",
   "id": "7efc9519",
   "metadata": {},
   "source": [
    "## vs code"
   ]
  },
  {
   "cell_type": "code",
   "execution_count": null,
   "id": "5aa716bc",
   "metadata": {},
   "outputs": [],
   "source": [
    "# tunneling"
   ]
  },
  {
   "cell_type": "code",
   "execution_count": null,
   "id": "f5878ad7",
   "metadata": {},
   "outputs": [],
   "source": [
    "# [windows] vs code ~/abuser/.ssh/config"
   ]
  },
  {
   "cell_type": "markdown",
   "id": "a163cda6",
   "metadata": {},
   "source": [
    "## jupyter themes\n",
    "- cf. it does not work in ML Platform yet."
   ]
  },
  {
   "cell_type": "code",
   "execution_count": null,
   "id": "d2869623",
   "metadata": {},
   "outputs": [],
   "source": [
    "#!pip install jupyterthemes --user"
   ]
  },
  {
   "cell_type": "code",
   "execution_count": null,
   "id": "44a04d40",
   "metadata": {},
   "outputs": [],
   "source": [
    "#!source ~/.bashrc"
   ]
  },
  {
   "cell_type": "code",
   "execution_count": null,
   "id": "e0938b11",
   "metadata": {},
   "outputs": [],
   "source": [
    "# !~/.local/bin/jt -l"
   ]
  },
  {
   "cell_type": "code",
   "execution_count": null,
   "id": "b900d340",
   "metadata": {},
   "outputs": [],
   "source": [
    "# !~/.local/bin/jt -t chesterish"
   ]
  },
  {
   "cell_type": "code",
   "execution_count": null,
   "id": "f405219e",
   "metadata": {},
   "outputs": [],
   "source": []
  }
 ],
 "metadata": {
  "kernelspec": {
   "display_name": "Python 3 (ipykernel)",
   "language": "python",
   "name": "python3"
  },
  "language_info": {
   "codemirror_mode": {
    "name": "ipython",
    "version": 3
   },
   "file_extension": ".py",
   "mimetype": "text/x-python",
   "name": "python",
   "nbconvert_exporter": "python",
   "pygments_lexer": "ipython3",
   "version": "3.8.9"
  }
 },
 "nbformat": 4,
 "nbformat_minor": 5
}

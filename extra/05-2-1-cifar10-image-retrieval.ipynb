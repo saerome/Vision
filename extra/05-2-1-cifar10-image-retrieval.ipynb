{
 "cells": [
  {
   "cell_type": "markdown",
   "id": "b61c33c4",
   "metadata": {},
   "source": [
    "# Image Retreival using pre-trained Models \n",
    "\n",
    "## Dataset: cifar 10\n",
    "## Model: ResNet v2, cifar10-vit\n",
    "\n",
    "## Experiments\n",
    "- 기존 cifar10 dataset으로 학습한 image classification model load \n",
    "- feature 추출 모델 구성\n",
    "- feature extraction\n",
    "- Similarity 구하기\n",
    "- retrieval test \n"
   ]
  },
  {
   "cell_type": "code",
   "execution_count": null,
   "id": "10aac8d9",
   "metadata": {},
   "outputs": [],
   "source": [
    "import tensorflow as tf\n",
    "from tensorflow import keras\n",
    "\n",
    "from keras.models import Model\n",
    "from keras.datasets import cifar10\n",
    "\n",
    "import numpy as np\n",
    "import os\n",
    "import math\n",
    "from datetime import datetime "
   ]
  },
  {
   "cell_type": "code",
   "execution_count": null,
   "id": "e7d91f29",
   "metadata": {},
   "outputs": [],
   "source": [
    "# for display image and plot\n",
    "from PIL import Image\n",
    "import matplotlib.pyplot as plt"
   ]
  },
  {
   "cell_type": "markdown",
   "id": "9596bdaa",
   "metadata": {},
   "source": [
    "## Hyperparameters"
   ]
  },
  {
   "cell_type": "code",
   "execution_count": null,
   "id": "045965f6",
   "metadata": {},
   "outputs": [],
   "source": [
    "num_classes = 10 # cifar10 classes : fixed"
   ]
  },
  {
   "cell_type": "code",
   "execution_count": null,
   "id": "bf7446bf",
   "metadata": {},
   "outputs": [],
   "source": [
    "# 1. ResNetv2 model \n",
    "depth = 20\n",
    "version=2\n",
    "# Model name, depth and version\n",
    "model_type = 'ResNet%dv%d' % (depth, version)\n",
    "model_file = 'cifar10_%s' % model_type\n",
    "output_feature_layer_name = 'flatten'\n",
    "\n",
    "# Subtracting pixel mean improves accuracy\n",
    "subtract_pixel_mean = True"
   ]
  },
  {
   "cell_type": "code",
   "execution_count": null,
   "id": "d2629223",
   "metadata": {},
   "outputs": [],
   "source": [
    "# 2. vit model\n",
    "model_type='vit_b16'\n",
    "model_file = 'cifar10_%s' % model_type\n",
    "input_shape = (32, 32, 3) #cifar10 image size\n",
    "image_size = 224 # 224 # 256 #size after resizing image\n",
    "\n",
    "subtract_pixel_mean = False\n",
    "output_feature_layer_name = 'feature' # dense"
   ]
  },
  {
   "cell_type": "markdown",
   "id": "c0b45501",
   "metadata": {},
   "source": [
    "## Dataset Preparation\n",
    "- Load cifar10 dataset\n",
    "- Normalize input(x) data\n",
    "- Output encoding to one-hot vector"
   ]
  },
  {
   "cell_type": "code",
   "execution_count": null,
   "id": "3ee0ae4a",
   "metadata": {
    "scrolled": true
   },
   "outputs": [],
   "source": [
    "# Load the CIFAR10 data.\n",
    "(x_train_data, y_train_data), (x_test_data, y_test_data) = cifar10.load_data()\n",
    "\n",
    "# Input image dimensions.\n",
    "input_shape = x_train_data.shape[1:]\n",
    "\n",
    "# Normalize data.\n",
    "x_train = x_train_data.astype('float32') / 255\n",
    "x_test = x_test_data.astype('float32') / 255"
   ]
  },
  {
   "cell_type": "code",
   "execution_count": null,
   "id": "4cc8fe43",
   "metadata": {},
   "outputs": [],
   "source": [
    "# If subtract pixel mean is enabled (ResNet case)\n",
    "if subtract_pixel_mean:\n",
    "    x_train_mean = np.mean(x_train, axis=0)\n",
    "    x_train -= x_train_mean\n",
    "    x_test -= x_train_mean\n",
    "\n",
    "# Convert class vectors to binary class matrices.\n",
    "y_train = keras.utils.to_categorical(y_train_data, num_classes)\n",
    "y_test = keras.utils.to_categorical(y_test_data, num_classes)\n",
    "\n",
    "print('x_train shape:', x_train.shape)\n",
    "print(x_train.shape[0], 'train samples')\n",
    "print(x_test.shape[0], 'test samples')\n",
    "print('y_train shape:', y_train.shape)"
   ]
  },
  {
   "cell_type": "code",
   "execution_count": null,
   "id": "c920c4eb",
   "metadata": {},
   "outputs": [],
   "source": [
    "!ls cifar10*"
   ]
  },
  {
   "cell_type": "code",
   "execution_count": null,
   "id": "28dcf318",
   "metadata": {},
   "outputs": [],
   "source": [
    "model_file"
   ]
  },
  {
   "cell_type": "code",
   "execution_count": null,
   "id": "1e798c58",
   "metadata": {},
   "outputs": [],
   "source": [
    "# Note: kill other kernels(jobs)\n",
    "reloaded_model = keras.models.load_model(model_file)\n",
    "reloaded_model.summary()"
   ]
  },
  {
   "cell_type": "code",
   "execution_count": null,
   "id": "6823bb20",
   "metadata": {},
   "outputs": [],
   "source": [
    "model_arch_png = 'model_cifar10_%s_loaded.png' % model_type\n",
    "keras.utils.plot_model(reloaded_model, to_file=model_arch_png, show_shapes=True )\n"
   ]
  },
  {
   "cell_type": "code",
   "execution_count": null,
   "id": "08f8ad2c",
   "metadata": {},
   "outputs": [],
   "source": [
    "# retrieval model\n",
    "base_model = reloaded_model\n",
    "r_model = Model(inputs=base_model.input, outputs=base_model.get_layer(output_feature_layer_name).output)\n",
    "\n",
    "r_model.summary()"
   ]
  },
  {
   "cell_type": "code",
   "execution_count": null,
   "id": "0727546a",
   "metadata": {},
   "outputs": [],
   "source": [
    "model_arch_png = 'model_cifar10_%s_feature.png' % model_type\n",
    "keras.utils.plot_model(r_model, to_file=model_arch_png, show_shapes=True )"
   ]
  },
  {
   "cell_type": "markdown",
   "id": "22168fab",
   "metadata": {},
   "source": [
    "## cifar10 test dataset에대한 features 분석"
   ]
  },
  {
   "cell_type": "code",
   "execution_count": null,
   "id": "30fbb314",
   "metadata": {},
   "outputs": [],
   "source": [
    "# feature 추출하는 model을 이용해서 입력 data (x_dataset)에 대한 feature vector 를 추출한다.\n",
    "# 입력 data: x_dataset에서 start index에서 num 개의 data \n",
    "# return: predictions(feature vectors), out_x_dataset, out_y_labels\n",
    "def extract_features(model, x_dataset, y_label, start, num):\n",
    "    if start < 0: \n",
    "        start = 0\n",
    "    end = -1    \n",
    "    if start + num > len(x_dataset)-1:\n",
    "        end = len(x_dataset) - start-1 # -1\n",
    "    else:\n",
    "        end = start + num\n",
    "    # Retrieve a number of images from the dataset.\n",
    "    data_batch = x_dataset[start:end]\n",
    "\n",
    "    # Get predictions from model.  \n",
    "    predictions = model.predict(data_batch) # features\n",
    "\n",
    "    out_x_dataset = data_batch\n",
    "    out_y_labels = y_label[start:end]\n",
    "    return predictions, out_x_dataset, out_y_labels"
   ]
  },
  {
   "cell_type": "code",
   "execution_count": null,
   "id": "c69b44fc",
   "metadata": {},
   "outputs": [],
   "source": [
    "cifar10_test_features, feature_x_data, feature_y_labels = extract_features(r_model, x_test, y_test, 0, 1000)"
   ]
  },
  {
   "cell_type": "code",
   "execution_count": null,
   "id": "95dc0d60",
   "metadata": {},
   "outputs": [],
   "source": [
    "cifar10_test_features.shape"
   ]
  },
  {
   "cell_type": "code",
   "execution_count": null,
   "id": "fd21402c",
   "metadata": {},
   "outputs": [],
   "source": [
    "from sklearn.metrics.pairwise import cosine_similarity\n",
    "sim = cosine_similarity(cifar10_test_features)"
   ]
  },
  {
   "cell_type": "code",
   "execution_count": null,
   "id": "86430ec5",
   "metadata": {},
   "outputs": [],
   "source": [
    "sim.shape, sim[0]"
   ]
  },
  {
   "cell_type": "code",
   "execution_count": null,
   "id": "29eaf2b4",
   "metadata": {},
   "outputs": [],
   "source": [
    "# check similarity values\n",
    "idx1=0\n",
    "idx2=17\n",
    "sim[idx1][idx2], np.dot(cifar10_test_features[idx1], cifar10_test_features[idx2])/(np.linalg.norm(cifar10_test_features[idx1])*np.linalg.norm(cifar10_test_features[idx2]))"
   ]
  },
  {
   "cell_type": "code",
   "execution_count": null,
   "id": "64f047b9",
   "metadata": {},
   "outputs": [],
   "source": [
    "# sort : ascending(default) or descending\n",
    "score_ind = np.argsort(sim)# [::,-1] "
   ]
  },
  {
   "cell_type": "code",
   "execution_count": null,
   "id": "69fc390a",
   "metadata": {},
   "outputs": [],
   "source": [
    "# given similarity with the corresponding dataset & labels, when querying an image of a query index, show the most similar top-k images \n",
    "# - the most similar top-k images\n",
    "# cls_model is used to provide prediction results of the base model\n",
    "def show_similar_images(similarity, query_index, top_k, x_dataset, y_label, cls_model):\n",
    "\n",
    "    class_names = ['airplane',\n",
    "                   'automobile',\n",
    "                   'bird',\n",
    "                   'cat',\n",
    "                   'deer',\n",
    "                   'dog',\n",
    "                   'frog',\n",
    "                   'horse',\n",
    "                   'ship',\n",
    "                   'truck' ]\n",
    "    # num_rows = 3\n",
    "    num_cols = 7\n",
    "    num_rows = (top_k // num_cols) + 2   \n",
    "    #print(f'rows={num_rows}')\n",
    "    if top_k > num_rows * num_cols:\n",
    "        top_k = num_rows * num_cols\n",
    "        \n",
    "    # Retrieve a number of images from the dataset.\n",
    "    data_batch = x_dataset\n",
    "\n",
    "    # Get predictions from model.  \n",
    "    predictions = cls_model.predict(data_batch)\n",
    "\n",
    "    plt.figure(figsize=(20, 2*num_rows))\n",
    "    num_matches = 0\n",
    "        \n",
    "    if subtract_pixel_mean:\n",
    "        data_batch = x_dataset + x_train_mean  # add to range [0,1] for display , x_train_mean = np.mean(x_train, axis=0)\n",
    "    else:\n",
    "        data_batch = x_dataset\n",
    "\n",
    "    score_idx = np.argsort(similarity[query_index])[::-1] # to change descending order\n",
    "    score_idx = score_idx[:top_k] # select top-k\n",
    "    \n",
    "    # display query image in the top row\n",
    "    ax = plt.subplot(num_rows, num_cols, 1)\n",
    "    plt.axis(\"off\")\n",
    "    plt.imshow(data_batch[query_index])\n",
    "    truth_idx = np.nonzero(y_label[query_index])\n",
    "    title = f\"{query_index}: {class_names[truth_idx[0][0]]}, {similarity[query_index][query_index]:.2f}\"\n",
    "    title_obj = plt.title(title, fontdict={'fontsize':13})\n",
    "    plt.setp(title_obj, color='g')\n",
    "        \n",
    "    # display similar images\n",
    "    # displayed text format: image number, ground truth class name: prected class name, similarity\n",
    "    for i, idx in enumerate(score_idx):\n",
    "        ax = plt.subplot(num_rows, num_cols, i + num_cols+1)\n",
    "        plt.axis(\"off\")\n",
    "        plt.imshow(data_batch[idx])\n",
    "        \n",
    "        pred_idx = tf.argmax(predictions[idx]).numpy()\n",
    "        truth_idx = np.nonzero(y_label[idx])\n",
    "            \n",
    "        title = f\"{idx}: {class_names[truth_idx[0][0]]}:{class_names[pred_idx]}, {similarity[query_index][idx]:.2f}\"\n",
    "        title_obj = plt.title(title, fontdict={'fontsize':13})\n",
    "            \n",
    "        if pred_idx == truth_idx:\n",
    "            num_matches += 1\n",
    "            plt.setp(title_obj, color='g')\n",
    "        else:\n",
    "            plt.setp(title_obj, color='r')\n",
    "                \n",
    "        acc = num_matches/len(score_idx)\n",
    "    print(\"Prediction accuracy: \", int(100*acc)/100)\n",
    "    \n",
    "    return\n"
   ]
  },
  {
   "cell_type": "code",
   "execution_count": null,
   "id": "1f516947",
   "metadata": {
    "scrolled": false
   },
   "outputs": [],
   "source": [
    "query_index = 10\n",
    "top_k = 64\n",
    "show_similar_images(sim, query_index, top_k, feature_x_data, feature_y_labels, base_model)"
   ]
  },
  {
   "cell_type": "code",
   "execution_count": null,
   "id": "209a3c9f",
   "metadata": {},
   "outputs": [],
   "source": []
  }
 ],
 "metadata": {
  "kernelspec": {
   "display_name": "Python 3 (ipykernel)",
   "language": "python",
   "name": "python3"
  },
  "language_info": {
   "codemirror_mode": {
    "name": "ipython",
    "version": 3
   },
   "file_extension": ".py",
   "mimetype": "text/x-python",
   "name": "python",
   "nbconvert_exporter": "python",
   "pygments_lexer": "ipython3",
   "version": "3.8.9"
  }
 },
 "nbformat": 4,
 "nbformat_minor": 5
}

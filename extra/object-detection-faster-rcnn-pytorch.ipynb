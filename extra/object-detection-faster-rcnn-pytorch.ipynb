{
 "cells": [
  {
   "cell_type": "markdown",
   "id": "0514e806",
   "metadata": {},
   "source": [
    "## Object Detection\n",
    "- faster rcnn-pytorch\n",
    "- Ref: https://github.com/spmallick/learnopencv/blob/master/PyTorch-faster-RCNN/PyTorch_faster_RCNN.ipynb"
   ]
  },
  {
   "cell_type": "code",
   "execution_count": null,
   "id": "6eab8fd9",
   "metadata": {},
   "outputs": [],
   "source": [
    "# import necessary libraries\n",
    "from PIL import Image\n",
    "import matplotlib.pyplot as plt\n",
    "import torch\n",
    "import torchvision.transforms as T\n",
    "import torchvision\n",
    "import numpy as np\n",
    "import cv2\n",
    "import os\n",
    "\n",
    "# Class labels from official PyTorch documentation for the pretrained model\n",
    "# Note that there are some N/A's \n",
    "# for complete list check https://tech.amikelive.com/node-718/what-object-categories-labels-are-in-coco-dataset/\n",
    "# we will use the same list for this notebook\n",
    "COCO_INSTANCE_CATEGORY_NAMES = [\n",
    "    '__background__', 'person', 'bicycle', 'car', 'motorcycle', 'airplane', 'bus',\n",
    "    'train', 'truck', 'boat', 'traffic light', 'fire hydrant', 'N/A', 'stop sign',\n",
    "    'parking meter', 'bench', 'bird', 'cat', 'dog', 'horse', 'sheep', 'cow',\n",
    "    'elephant', 'bear', 'zebra', 'giraffe', 'N/A', 'backpack', 'umbrella', 'N/A', 'N/A',\n",
    "    'handbag', 'tie', 'suitcase', 'frisbee', 'skis', 'snowboard', 'sports ball',\n",
    "    'kite', 'baseball bat', 'baseball glove', 'skateboard', 'surfboard', 'tennis racket',\n",
    "    'bottle', 'N/A', 'wine glass', 'cup', 'fork', 'knife', 'spoon', 'bowl',\n",
    "    'banana', 'apple', 'sandwich', 'orange', 'broccoli', 'carrot', 'hot dog', 'pizza',\n",
    "    'donut', 'cake', 'chair', 'couch', 'potted plant', 'bed', 'N/A', 'dining table',\n",
    "    'N/A', 'N/A', 'toilet', 'N/A', 'tv', 'laptop', 'mouse', 'remote', 'keyboard', 'cell phone',\n",
    "    'microwave', 'oven', 'toaster', 'sink', 'refrigerator', 'N/A', 'book',\n",
    "    'clock', 'vase', 'scissors', 'teddy bear', 'hair drier', 'toothbrush'\n",
    "]"
   ]
  },
  {
   "cell_type": "code",
   "execution_count": null,
   "id": "6291ad5c",
   "metadata": {},
   "outputs": [],
   "source": [
    "device = \"cuda\" if torch.cuda.is_available() else \"cpu\"\n",
    "image_path = '../images/'"
   ]
  },
  {
   "cell_type": "code",
   "execution_count": null,
   "id": "11f969d8",
   "metadata": {
    "scrolled": true
   },
   "outputs": [],
   "source": [
    "# get the pretrained model from torchvision.models\n",
    "# Note: pretrained=True will get the pretrained weights for the model.\n",
    "# model.eval() to use the model for inference\n",
    "model = torchvision.models.detection.fasterrcnn_resnet50_fpn(weights=\"DEFAULT\") # The argument dependversion dependent\n",
    "model.to(device)\n",
    "model.eval() # mode change for evaluation/prediction, (not train cf. model.train())"
   ]
  },
  {
   "cell_type": "code",
   "execution_count": null,
   "id": "bf146ded",
   "metadata": {},
   "outputs": [],
   "source": [
    "def get_prediction(img_path, threshold):\n",
    "  \"\"\"\n",
    "  get_prediction\n",
    "    parameters:\n",
    "      - img_path - path of the input image\n",
    "      - threshold - threshold value for prediction score\n",
    "    method:\n",
    "      - Image is obtained from the image path\n",
    "      - the image is converted to image tensor using PyTorch's Transforms\n",
    "      - image is passed through the model to get the predictions\n",
    "      - class, box coordinates are obtained, but only prediction score > threshold\n",
    "        are chosen.\n",
    "    \n",
    "  \"\"\"\n",
    "  img = Image.open(img_path) # load an image from a file path\n",
    "  transform = T.Compose([T.ToTensor()]) # define a transform an image to tensor\n",
    "  img = transform(img).to(device) # transform image to torch tensor\n",
    "  pred = model([img])  # predict using model\n",
    "  pred_class = [COCO_INSTANCE_CATEGORY_NAMES[i] for i in list(pred[0]['labels'].detach().cpu().numpy())]\n",
    "  pred_boxes = [[(i[0], i[1]), (i[2], i[3])] for i in list(pred[0]['boxes'].detach().cpu().numpy())]\n",
    "  pred_score = list(pred[0]['scores'].detach().cpu().numpy())\n",
    "  pred_t = [pred_score.index(x) for x in pred_score if x>threshold][-1]\n",
    "  pred_boxes = pred_boxes[:pred_t+1]\n",
    "  pred_class = pred_class[:pred_t+1]\n",
    "  return pred_boxes, pred_class\n",
    "  \n",
    "\n",
    "\n",
    "def object_detection(img_path, threshold=0.5, rect_th=3, text_size=3, text_th=3):\n",
    "  \"\"\"\n",
    "  object_detection_api\n",
    "    parameters:\n",
    "      - img_path - path of the input image\n",
    "      - threshold - threshold value for prediction score\n",
    "      - rect_th - thickness of bounding box\n",
    "      - text_size - size of the class label text\n",
    "      - text_th - thichness of the text\n",
    "    method:\n",
    "      - prediction is obtained from get_prediction method\n",
    "      - for each prediction, bounding box is drawn and text is written \n",
    "        with opencv\n",
    "      - the final image is displayed\n",
    "  \"\"\"\n",
    "  boxes, pred_cls = get_prediction(img_path, threshold)\n",
    "  img = cv2.imread(img_path)\n",
    "  img = cv2.cvtColor(img, cv2.COLOR_BGR2RGB)\n",
    "  for i in range(len(boxes)):\n",
    "    box_i1 = (int(boxes[i][0][0]), int(boxes[i][0][1]))\n",
    "    box_i2 = (int(boxes[i][1][0]), int(boxes[i][1][1]))\n",
    "    cv2.rectangle(img, box_i1, box_i2,color=(0, 255, 0), thickness=rect_th)\n",
    "    cv2.putText(img,pred_cls[i], box_i1, cv2.FONT_HERSHEY_SIMPLEX, text_size, (0,255,0),thickness=text_th)\n",
    "  plt.figure(figsize=(20,30))\n",
    "  plt.imshow(img)\n",
    "  plt.xticks([])\n",
    "  plt.yticks([])\n",
    "  plt.show()"
   ]
  },
  {
   "cell_type": "code",
   "execution_count": null,
   "id": "dd95ea52",
   "metadata": {},
   "outputs": [],
   "source": [
    "!ls {image_path}"
   ]
  },
  {
   "cell_type": "code",
   "execution_count": null,
   "id": "6a0741c2",
   "metadata": {},
   "outputs": [],
   "source": [
    "object_detection(image_path+'./mrcnn_cars.jpg', rect_th=6, text_th=5, text_size=5)"
   ]
  },
  {
   "cell_type": "code",
   "execution_count": null,
   "id": "df937ae4",
   "metadata": {},
   "outputs": [],
   "source": [
    "object_detection(image_path+'./mrcnn_traffic.jpg', rect_th=2, text_th=1, text_size=1)"
   ]
  },
  {
   "cell_type": "code",
   "execution_count": null,
   "id": "559ff4dc",
   "metadata": {},
   "outputs": [],
   "source": [
    "object_detection(image_path+'./mrcnn_standing_people.jpg', rect_th=15, text_th=5, text_size=5, threshold=0.8)  "
   ]
  },
  {
   "cell_type": "markdown",
   "id": "1d6773ff",
   "metadata": {},
   "source": [
    "## Comparing the inference time of model in CPU & GPU"
   ]
  },
  {
   "cell_type": "code",
   "execution_count": null,
   "id": "655766c0",
   "metadata": {},
   "outputs": [],
   "source": [
    "import time\n",
    "\n",
    "def check_inference_time(image_path, gpu=False):\n",
    "  #model = torchvision.models.detection.fasterrcnn_resnet50_fpn(pretrained=True) # user warning\n",
    "  model = torchvision.models.detection.fasterrcnn_resnet50_fpn(weights='FasterRCNN_ResNet50_FPN_Weights.DEFAULT')\n",
    "  model.eval()\n",
    "  img = Image.open(image_path)\n",
    "  transform = T.Compose([T.ToTensor()])\n",
    "  img = transform(img)\n",
    "  if gpu:\n",
    "    model.cuda()\n",
    "    img = img.cuda()\n",
    "  else:\n",
    "    model.cpu()\n",
    "    img = img.cpu()\n",
    "  start_time = time.time()\n",
    "  pred = model([img])\n",
    "  end_time = time.time()\n",
    "  return end_time-start_time"
   ]
  },
  {
   "cell_type": "markdown",
   "id": "894cebd8",
   "metadata": {},
   "source": [
    "### Inference time for Object Detection"
   ]
  },
  {
   "cell_type": "code",
   "execution_count": null,
   "id": "60d1ebc0",
   "metadata": {},
   "outputs": [],
   "source": [
    "# Let's run inference on all the downloaded images and average their inference time \n",
    "img_paths = [path for path in os.listdir(image_path) if (path.split(\".\")[-1].lower() in [\"jpeg\", \"jpg\"]) and path.startswith('mrcnn_') ]\n",
    "\n",
    "gpu_time = sum([check_inference_time(image_path+img_path, gpu=True) for img_path in img_paths])/len(img_paths)\n",
    "cpu_time = sum([check_inference_time(image_path+img_path, gpu=False) for img_path in img_paths])/len(img_paths)\n",
    "\n",
    "print('\\n\\nAverage Time take by the model with GPU = {}s\\nAverage Time take by the model with CPU = {}s'.format(gpu_time, cpu_time))"
   ]
  },
  {
   "cell_type": "code",
   "execution_count": null,
   "id": "5b8f675f",
   "metadata": {},
   "outputs": [],
   "source": [
    "#3.95/0.17\n",
    "cpu_time/gpu_time, cpu_time, gpu_time"
   ]
  },
  {
   "cell_type": "code",
   "execution_count": null,
   "id": "ff88171f",
   "metadata": {},
   "outputs": [],
   "source": []
  }
 ],
 "metadata": {
  "kernelspec": {
   "display_name": "venv_torch2i",
   "language": "python",
   "name": "venv_torch2i"
  },
  "language_info": {
   "codemirror_mode": {
    "name": "ipython",
    "version": 3
   },
   "file_extension": ".py",
   "mimetype": "text/x-python",
   "name": "python",
   "nbconvert_exporter": "python",
   "pygments_lexer": "ipython3",
   "version": "3.8.9"
  }
 },
 "nbformat": 4,
 "nbformat_minor": 5
}
